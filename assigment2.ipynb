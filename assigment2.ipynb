{
 "cells": [
  {
   "cell_type": "markdown",
   "id": "900af55e-6e3a-494c-9e90-463d9a2892e3",
   "metadata": {},
   "source": [
    "# 1. Array Creation:"
   ]
  },
  {
   "cell_type": "markdown",
   "id": "b14006ef-afa4-4b9d-b250-3681d7ff3bfa",
   "metadata": {},
   "source": [
    "## Create a 1-dimensional array of integers from 1 to 10."
   ]
  },
  {
   "cell_type": "code",
   "execution_count": 1,
   "id": "f51d541b-43ab-4912-bd52-fce67f51ac76",
   "metadata": {},
   "outputs": [],
   "source": [
    "import numpy as np"
   ]
  },
  {
   "cell_type": "code",
   "execution_count": 5,
   "id": "7c0cbaef-6a42-4150-ae01-de3d49531463",
   "metadata": {},
   "outputs": [],
   "source": [
    "array = np.arange(1, 11)"
   ]
  },
  {
   "cell_type": "code",
   "execution_count": 6,
   "id": "520b7281-8211-49b7-9364-733b16f44657",
   "metadata": {},
   "outputs": [
    {
     "name": "stdout",
     "output_type": "stream",
     "text": [
      "[ 1  2  3  4  5  6  7  8  9 10]\n"
     ]
    }
   ],
   "source": [
    "print(array)"
   ]
  },
  {
   "cell_type": "markdown",
   "id": "8b504f08-ad0e-4cf2-9757-81f542107b3a",
   "metadata": {},
   "source": [
    "## Create a 2-dimensional array with random float values of shape (3, 4)."
   ]
  },
  {
   "cell_type": "code",
   "execution_count": 7,
   "id": "3486b487-f055-477b-ab0b-56faab8c427b",
   "metadata": {},
   "outputs": [],
   "source": [
    "array=np.random.rand(3,4)"
   ]
  },
  {
   "cell_type": "code",
   "execution_count": 8,
   "id": "04550031-bf02-4858-bc1e-6937db1d6890",
   "metadata": {},
   "outputs": [
    {
     "name": "stdout",
     "output_type": "stream",
     "text": [
      "[[0.00459069 0.01898674 0.77761439 0.52276666]\n",
      " [0.01748038 0.00351434 0.41318861 0.28285278]\n",
      " [0.80754324 0.63880151 0.41653248 0.78000567]]\n"
     ]
    }
   ],
   "source": [
    "print(array)"
   ]
  },
  {
   "cell_type": "markdown",
   "id": "37ed3ea7-1f6f-4ceb-8d21-4e9faf67a180",
   "metadata": {},
   "source": [
    "## Create a 3-dimensional array of zeros with shape (2, 3, 4)."
   ]
  },
  {
   "cell_type": "code",
   "execution_count": 9,
   "id": "771abf3a-131c-4eef-9745-c47d8b842d22",
   "metadata": {},
   "outputs": [
    {
     "name": "stdout",
     "output_type": "stream",
     "text": [
      "[[[0. 0. 0. 0.]\n",
      "  [0. 0. 0. 0.]\n",
      "  [0. 0. 0. 0.]]\n",
      "\n",
      " [[0. 0. 0. 0.]\n",
      "  [0. 0. 0. 0.]\n",
      "  [0. 0. 0. 0.]]]\n"
     ]
    }
   ],
   "source": [
    "array = np.zeros((2, 3, 4))\n",
    "print(array)"
   ]
  },
  {
   "cell_type": "markdown",
   "id": "9b9de394-5936-42d4-914b-91bd1764750d",
   "metadata": {},
   "source": [
    "# 2. Array Operations:"
   ]
  },
  {
   "cell_type": "markdown",
   "id": "4a567509-94b1-4c1c-9313-845da2a2acd1",
   "metadata": {},
   "source": [
    "## Given two 1-dimensional arrays, perform element-wise addition,subtraction, multiplication, and division."
   ]
  },
  {
   "cell_type": "code",
   "execution_count": 10,
   "id": "7a9e2bbd-f376-477a-af2a-7534d68e8240",
   "metadata": {},
   "outputs": [],
   "source": [
    "array1 = np.array([1, 2, 3, 4, 5])\n",
    "array2 = np.array([6, 7, 8, 9, 10])\n"
   ]
  },
  {
   "cell_type": "code",
   "execution_count": 11,
   "id": "51effe0e-02cb-494e-b4ba-393fef4f0c49",
   "metadata": {},
   "outputs": [
    {
     "name": "stdout",
     "output_type": "stream",
     "text": [
      "Addition: [ 7  9 11 13 15]\n"
     ]
    }
   ],
   "source": [
    "addition = array1 + array2\n",
    "print(\"Addition:\", addition)\n"
   ]
  },
  {
   "cell_type": "code",
   "execution_count": 12,
   "id": "18152015-ef8a-46c9-85e5-71fc73e6b41c",
   "metadata": {},
   "outputs": [
    {
     "name": "stdout",
     "output_type": "stream",
     "text": [
      "Subtraction: [-5 -5 -5 -5 -5]\n"
     ]
    }
   ],
   "source": [
    "subtraction= array1-array2\n",
    "print(\"Subtraction:\",subtraction)"
   ]
  },
  {
   "cell_type": "code",
   "execution_count": 13,
   "id": "e4085618-f917-492f-aec3-74ad658ced67",
   "metadata": {},
   "outputs": [
    {
     "name": "stdout",
     "output_type": "stream",
     "text": [
      "Multiplication: [ 6 14 24 36 50]\n"
     ]
    }
   ],
   "source": [
    "multiplication = array1*array2\n",
    "print(\"Multiplication:\",multiplication)"
   ]
  },
  {
   "cell_type": "code",
   "execution_count": 14,
   "id": "2b951e67-c02f-45fc-b5dd-0c7dd44294f8",
   "metadata": {},
   "outputs": [
    {
     "name": "stdout",
     "output_type": "stream",
     "text": [
      "Division: [0.16666667 0.28571429 0.375      0.44444444 0.5       ]\n"
     ]
    }
   ],
   "source": [
    "division = array1/array2\n",
    "print(\"Division:\",division)"
   ]
  },
  {
   "cell_type": "markdown",
   "id": "3902466b-9101-427a-a6d4-e30ca877cba3",
   "metadata": {},
   "source": [
    "## Calculate the mean, median, and standard deviation of a given 1-dimensional array."
   ]
  },
  {
   "cell_type": "code",
   "execution_count": 21,
   "id": "af011584-3019-4f6f-bc9d-690bb127869d",
   "metadata": {},
   "outputs": [],
   "source": [
    "arr = np.array([1, 2, 3, 4, 5, 6, 7, 8, 9, 10,11,12])\n"
   ]
  },
  {
   "cell_type": "code",
   "execution_count": 22,
   "id": "ef14aedf-1f8d-460d-a1c6-22901f5053d2",
   "metadata": {},
   "outputs": [
    {
     "name": "stdout",
     "output_type": "stream",
     "text": [
      "Mean: 6.5\n"
     ]
    }
   ],
   "source": [
    "mean_value = np.mean(arr)\n",
    "print(\"Mean:\", mean_value)"
   ]
  },
  {
   "cell_type": "code",
   "execution_count": 23,
   "id": "c640131e-0104-41fe-81fd-8462b2017fdf",
   "metadata": {},
   "outputs": [
    {
     "name": "stdout",
     "output_type": "stream",
     "text": [
      "Median: 6.5\n"
     ]
    }
   ],
   "source": [
    "median_value = np.median(arr)\n",
    "print(\"Median:\",median_value)"
   ]
  },
  {
   "cell_type": "code",
   "execution_count": 24,
   "id": "07766060-14da-4287-ad30-1a7ec6c75a1b",
   "metadata": {},
   "outputs": [
    {
     "name": "stdout",
     "output_type": "stream",
     "text": [
      "Standard Deviation: 3.452052529534663\n"
     ]
    }
   ],
   "source": [
    "standard_deviation = np.std(arr)\n",
    "print(\"Standard Deviation:\", standard_deviation)"
   ]
  },
  {
   "cell_type": "markdown",
   "id": "a25f804f-3058-4e80-b3c3-2e366368a986",
   "metadata": {},
   "source": [
    "## Reshape a 1-dimensional array into a 2-dimensional array of shape (3,4)."
   ]
  },
  {
   "cell_type": "code",
   "execution_count": 25,
   "id": "8e669193-9dff-4aa2-886f-267b9d63e64d",
   "metadata": {},
   "outputs": [],
   "source": [
    "arr_1dimensional = np.array([1, 2, 3, 4, 5, 6, 7, 8, 9, 10, 11, 12])"
   ]
  },
  {
   "cell_type": "code",
   "execution_count": 26,
   "id": "2e624239-e824-4645-a4fc-71aaa735c250",
   "metadata": {},
   "outputs": [
    {
     "name": "stdout",
     "output_type": "stream",
     "text": [
      "[[ 1  2  3  4]\n",
      " [ 5  6  7  8]\n",
      " [ 9 10 11 12]]\n"
     ]
    }
   ],
   "source": [
    "arr_2dimensional = arr_1dimensional.reshape(3, 4)\n",
    "print(arr_2dimensional)"
   ]
  },
  {
   "cell_type": "markdown",
   "id": "debf65ea-658b-4862-821b-fb3835f4e9bf",
   "metadata": {},
   "source": [
    "# 3. Array Indexing and Slicing:"
   ]
  },
  {
   "cell_type": "markdown",
   "id": "604f2204-bbd1-4042-8a09-cda5dbe4d562",
   "metadata": {},
   "source": [
    "## Extract the first row and last column of a 2-dimensional array."
   ]
  },
  {
   "cell_type": "code",
   "execution_count": 27,
   "id": "74279689-bafa-4f06-a53c-92e5bbc53ff5",
   "metadata": {},
   "outputs": [],
   "source": [
    "array_2d = np.array([[1, 2, 3],[4, 5, 6],[7, 8, 9]])"
   ]
  },
  {
   "cell_type": "code",
   "execution_count": 28,
   "id": "38d8dc0b-1835-4753-9c83-51f5eeea73f8",
   "metadata": {},
   "outputs": [
    {
     "name": "stdout",
     "output_type": "stream",
     "text": [
      "First row: [1 2 3]\n"
     ]
    }
   ],
   "source": [
    "first_row = array_2d[0, :]\n",
    "print(\"First row:\", first_row)"
   ]
  },
  {
   "cell_type": "code",
   "execution_count": 29,
   "id": "cd808b10-317b-4b49-a357-4d3e69feff7a",
   "metadata": {},
   "outputs": [
    {
     "name": "stdout",
     "output_type": "stream",
     "text": [
      "Last column: [3 6 9]\n"
     ]
    }
   ],
   "source": [
    "last_column = array_2d[:, -1]\n",
    "print(\"Last column:\", last_column)"
   ]
  },
  {
   "cell_type": "markdown",
   "id": "55192764-24bb-46c8-bb69-c874760812a0",
   "metadata": {},
   "source": [
    "## Reverse the order of elements in a 1-dimensional array."
   ]
  },
  {
   "cell_type": "code",
   "execution_count": 30,
   "id": "e94ec727-bc09-474a-826c-cf1e39c9ec0d",
   "metadata": {},
   "outputs": [
    {
     "name": "stdout",
     "output_type": "stream",
     "text": [
      "Reversed array: [[7 8 9]\n",
      " [4 5 6]\n",
      " [1 2 3]]\n"
     ]
    }
   ],
   "source": [
    "reversed_arr = array_2d[::-1]\n",
    "print(\"Reversed array:\", reversed_arr)"
   ]
  },
  {
   "cell_type": "markdown",
   "id": "1b99d977-3959-4b8a-9763-db70f9fd77fe",
   "metadata": {},
   "source": [
    "## Select elements from a 2-dimensional array that satisfy a specific condition (e.g., values greater than a certain threshold)."
   ]
  },
  {
   "cell_type": "code",
   "execution_count": 31,
   "id": "409fe8cb-8319-4cbf-83bd-0906b7364aae",
   "metadata": {},
   "outputs": [],
   "source": [
    "array_2d = np.array([[1, 2, 3],[4, 5, 6],[7, 8, 9]])\n"
   ]
  },
  {
   "cell_type": "code",
   "execution_count": 32,
   "id": "1028eed4-bdcc-40c7-8be8-fe193bf7f32d",
   "metadata": {},
   "outputs": [],
   "source": [
    "threshold = 5"
   ]
  },
  {
   "cell_type": "code",
   "execution_count": 34,
   "id": "d2feeb89-f8e9-404d-9a7d-a5eebf38b1a2",
   "metadata": {},
   "outputs": [
    {
     "name": "stdout",
     "output_type": "stream",
     "text": [
      "Selected elements: [6 7 8 9]\n"
     ]
    }
   ],
   "source": [
    "selected_elements = array_2d[array_2d > threshold]\n",
    "print(\"Selected elements:\", selected_elements)"
   ]
  },
  {
   "cell_type": "markdown",
   "id": "efd60abb-8afd-453a-be2a-be998321101e",
   "metadata": {},
   "source": [
    "# 4. Array Broadcasting:"
   ]
  },
  {
   "cell_type": "markdown",
   "id": "138b153f-546f-462d-a479-f02ef094318b",
   "metadata": {},
   "source": [
    "## Add a scalar value to each element of a 2-dimensional array."
   ]
  },
  {
   "cell_type": "code",
   "execution_count": 35,
   "id": "d8338cd7-99fe-4f3c-bbcd-fed3099f42e5",
   "metadata": {},
   "outputs": [],
   "source": [
    "array_2d = np.array([[1, 2, 3],[4, 5, 6],[7, 8, 9]])"
   ]
  },
  {
   "cell_type": "code",
   "execution_count": 40,
   "id": "bdfcb0e5-dbd5-49ed-be28-29e666f7fbf9",
   "metadata": {},
   "outputs": [],
   "source": [
    "scalar_value = 11"
   ]
  },
  {
   "cell_type": "code",
   "execution_count": 42,
   "id": "33599cad-1440-4e7c-a10b-4398f25aff48",
   "metadata": {},
   "outputs": [
    {
     "name": "stdout",
     "output_type": "stream",
     "text": [
      "Result array: [[15 16 17]\n",
      " [18 19 20]]\n"
     ]
    }
   ],
   "source": [
    "result_array = array_2d + scalar_value\n",
    "print(\"Result array:\",result_array)\n"
   ]
  },
  {
   "cell_type": "markdown",
   "id": "dbc1acc2-8591-4be0-9548-4c5f8653e526",
   "metadata": {},
   "source": [
    "## Multiply a 1-dimensional array with a 2-dimensional array, leveraging NumPy's broadcasting rules."
   ]
  },
  {
   "cell_type": "code",
   "execution_count": 43,
   "id": "63151eb4-81e4-49cc-8ff9-efed77b188b1",
   "metadata": {},
   "outputs": [],
   "source": [
    "arr_1d = np.array([1, 2, 3])\n",
    "arr_2d = np.array([[4, 5, 6],\n",
    "                   [7, 8, 9]])"
   ]
  },
  {
   "cell_type": "code",
   "execution_count": 49,
   "id": "c0adfb49-c4c2-45bd-870f-17220b785d58",
   "metadata": {},
   "outputs": [],
   "source": [
    "result_array = arr_1d * arr_2d\n"
   ]
  },
  {
   "cell_type": "code",
   "execution_count": 50,
   "id": "2523eaa2-b8c8-4976-9b8e-ef814f2b71d6",
   "metadata": {},
   "outputs": [
    {
     "name": "stdout",
     "output_type": "stream",
     "text": [
      "Result array: [[ 4 10 18]\n",
      " [ 7 16 27]]\n"
     ]
    }
   ],
   "source": [
    "print(\"Result array:\",result_array)\n"
   ]
  },
  {
   "cell_type": "markdown",
   "id": "d77a5c70-c7fa-4223-bd96-951404cbb18e",
   "metadata": {},
   "source": [
    "# 5. Linear Algebra:"
   ]
  },
  {
   "cell_type": "markdown",
   "id": "fe5732a9-c2a5-4359-970a-2cfa31612303",
   "metadata": {},
   "source": [
    "## Calculate the dot product of two 1-dimensional arrays."
   ]
  },
  {
   "cell_type": "code",
   "execution_count": 52,
   "id": "b6545f6f-1f12-4eec-8bca-431baabf2cec",
   "metadata": {},
   "outputs": [],
   "source": [
    "array1 = np.array([1, 2, 3])\n",
    "array2 = np.array([4, 5, 6])"
   ]
  },
  {
   "cell_type": "code",
   "execution_count": 53,
   "id": "271117c7-1701-4977-ad16-7cbea141e052",
   "metadata": {},
   "outputs": [
    {
     "name": "stdout",
     "output_type": "stream",
     "text": [
      "Dot product: 32\n"
     ]
    }
   ],
   "source": [
    "dot_product = np.dot(array1, array2)\n",
    "print(\"Dot product:\", dot_product)\n"
   ]
  },
  {
   "cell_type": "markdown",
   "id": "f8881dc6-5f62-4132-a1f5-cff3192c6607",
   "metadata": {},
   "source": [
    "## Compute the matrix multiplication of two 2-dimensional arrays."
   ]
  },
  {
   "cell_type": "code",
   "execution_count": 54,
   "id": "2464bc6a-0fb4-466f-8980-fdd8bd9b0382",
   "metadata": {},
   "outputs": [],
   "source": [
    "array1 = np.array([[1, 2, 3],\n",
    "                 [4, 5, 6]])\n",
    "\n",
    "array2 = np.array([[7, 8],\n",
    "                 [9, 10],\n",
    "                 [11, 12]])\n"
   ]
  },
  {
   "cell_type": "code",
   "execution_count": 55,
   "id": "0e2645e8-a4d9-4a02-9a73-e5442ba405d2",
   "metadata": {},
   "outputs": [
    {
     "name": "stdout",
     "output_type": "stream",
     "text": [
      "Matrix multiplication using np.dot(): [[ 58  64]\n",
      " [139 154]]\n"
     ]
    }
   ],
   "source": [
    "result_dot = np.dot(array1, array2)\n",
    "print(\"Matrix multiplication using np.dot():\",result_dot)\n",
    "\n"
   ]
  },
  {
   "cell_type": "code",
   "execution_count": 57,
   "id": "c8b1c53c-1dc2-4e62-8dd5-499c665dad97",
   "metadata": {},
   "outputs": [
    {
     "name": "stdout",
     "output_type": "stream",
     "text": [
      "Matrix multiplication using @ operator: [[ 58  64]\n",
      " [139 154]]\n"
     ]
    }
   ],
   "source": [
    "result_operator = array1 @ array2\n",
    "print(\"Matrix multiplication using @ operator:\",result_operator)\n",
    "\n"
   ]
  },
  {
   "cell_type": "code",
   "execution_count": null,
   "id": "1a115741-a793-49e8-a180-27afa9c25198",
   "metadata": {},
   "outputs": [],
   "source": [
    "V"
   ]
  },
  {
   "cell_type": "code",
   "execution_count": 58,
   "id": "ef07ad73-34b5-4828-b553-30c28bd0660a",
   "metadata": {},
   "outputs": [],
   "source": [
    "matrix = np.array([[1, 2],\n",
    "                   [6,5]])\n"
   ]
  },
  {
   "cell_type": "code",
   "execution_count": 59,
   "id": "0f0fe033-21bb-474d-9ef1-eadec62de7b4",
   "metadata": {},
   "outputs": [
    {
     "name": "stdout",
     "output_type": "stream",
     "text": [
      "Determinant: -2.0000000000000004\n"
     ]
    }
   ],
   "source": [
    "determinant_matrix = np.linalg.det(matrix)\n",
    "print(\"Determinant:\", determinant_matrix)\n"
   ]
  },
  {
   "cell_type": "code",
   "execution_count": 60,
   "id": "e3c3693b-1ab2-41e0-aac6-4bab83ef0c0f",
   "metadata": {},
   "outputs": [
    {
     "name": "stdout",
     "output_type": "stream",
     "text": [
      "Inverse matrix:\n",
      "[[-2.   1. ]\n",
      " [ 1.5 -0.5]]\n"
     ]
    }
   ],
   "source": [
    "if determinant_matrix != 0:\n",
    "    # Compute the inverse of the matrix\n",
    "    inverse_matrix = np.linalg.inv(matrix)\n",
    "    print(\"Inverse matrix:\")\n",
    "    print(inverse_matrix)\n",
    "else:\n",
    "    print(\"The matrix is singular, and its determinant is zero. Inverse does not exist.\")"
   ]
  },
  {
   "cell_type": "code",
   "execution_count": null,
   "id": "3ea28356-6c7c-49a5-b309-43f1680e4671",
   "metadata": {},
   "outputs": [],
   "source": []
  }
 ],
 "metadata": {
  "kernelspec": {
   "display_name": "Python 3 (ipykernel)",
   "language": "python",
   "name": "python3"
  },
  "language_info": {
   "codemirror_mode": {
    "name": "ipython",
    "version": 3
   },
   "file_extension": ".py",
   "mimetype": "text/x-python",
   "name": "python",
   "nbconvert_exporter": "python",
   "pygments_lexer": "ipython3",
   "version": "3.11.7"
  }
 },
 "nbformat": 4,
 "nbformat_minor": 5
}

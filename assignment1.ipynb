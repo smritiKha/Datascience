{
 "cells": [
  {
   "cell_type": "markdown",
   "id": "5714c96e-2d04-437e-88ff-73c95a09058f",
   "metadata": {},
   "source": [
    "##4. Create a list of your favorite movies and print it. Then, append a new movie to the list and\n",
    "print the updated list."
   ]
  },
  {
   "cell_type": "code",
   "execution_count": 2,
   "id": "eb1cd87d-e371-4607-afc1-124d8ab108f9",
   "metadata": {},
   "outputs": [
    {
     "name": "stdout",
     "output_type": "stream",
     "text": [
      "['Parasite', 'Mr Queen', 'Sawariya', 'A Killer Pradox', ['Death wisperer', 'Thanksgiving', 'Ghost Mansion']]\n"
     ]
    }
   ],
   "source": [
    "list_movieA =[\"Death wisperer\",\"Thanksgiving\",\"Ghost Mansion\"]\n",
    "list_movie.append(list_movieA)\n",
    "print(list_movie)"
   ]
  },
  {
   "cell_type": "code",
   "execution_count": null,
   "id": "04c3dfc9-ee54-4b34-9aab-3e0e81c92265",
   "metadata": {},
   "outputs": [],
   "source": [
    "list_movie = [\"Parasite\",\"Mr Queen\",\"Sawariya\",\"A Killer Pradox\"]\n",
    "print(list_movie)"
   ]
  },
  {
   "cell_type": "markdown",
   "id": "803529a3-c98a-49d0-9946-5cd6253bf71b",
   "metadata": {},
   "source": [
    "##5. Create a list of integers from 1 to 10 and print it. Calculate the sum of all the numbers in\n",
    "the list and print the result."
   ]
  },
  {
   "cell_type": "code",
   "execution_count": 3,
   "id": "38b5a288-9233-4aee-a1d3-7d8c65f1e713",
   "metadata": {},
   "outputs": [
    {
     "name": "stdout",
     "output_type": "stream",
     "text": [
      "1\n",
      "2\n",
      "3\n",
      "4\n",
      "5\n",
      "6\n",
      "7\n",
      "8\n",
      "9\n",
      "10\n"
     ]
    }
   ],
   "source": [
    "list_num = [1,2,3,4,5,6,7,8,9,10]\n",
    "for num in list_num:\n",
    "    print(num)"
   ]
  },
  {
   "cell_type": "code",
   "execution_count": 4,
   "id": "4cb532e7-c68b-476a-8669-01decd12e16d",
   "metadata": {},
   "outputs": [
    {
     "name": "stdout",
     "output_type": "stream",
     "text": [
      "Sum of  all numbers is 55\n"
     ]
    }
   ],
   "source": [
    "result = 0\n",
    "for num in list_num:\n",
    "  result += num\n",
    "print(\"Sum of  all numbers is\" , result)"
   ]
  },
  {
   "cell_type": "markdown",
   "id": "87be306c-7835-4d3d-b1bc-c7902ece878b",
   "metadata": {},
   "source": [
    "##6. Create a list of mixed data types including strings, integers, and floats and print it. Remove\n",
    "the first element from the list and print the modified list."
   ]
  },
  {
   "cell_type": "code",
   "execution_count": 5,
   "id": "2fcec914-c744-451a-a85d-8390a5091a88",
   "metadata": {},
   "outputs": [
    {
     "name": "stdout",
     "output_type": "stream",
     "text": [
      "['Dinesh', 'Jyoti', 4, 9, 3, 5.66, 4.64]\n"
     ]
    }
   ],
   "source": [
    "mixed_datatypes = [\"Dinesh\",\"Jyoti\",4,9,3,5.66,4.64]\n",
    "print(mixed_datatypes)"
   ]
  },
  {
   "cell_type": "code",
   "execution_count": 6,
   "id": "7ad77082-d8e9-449c-95cb-87f83176f76b",
   "metadata": {},
   "outputs": [
    {
     "name": "stdout",
     "output_type": "stream",
     "text": [
      "Dinesh\n"
     ]
    }
   ],
   "source": [
    "modified_datatypes = mixed_datatypes.pop(0)\n",
    "print(modified_datatypes)"
   ]
  },
  {
   "cell_type": "markdown",
   "id": "1764c952-9d80-4d1a-8620-df703a93a7ea",
   "metadata": {},
   "source": [
    "##7. Create a tuple containing the names of the days of the week and print it. Access and print\n",
    "the name of the third day."
   ]
  },
  {
   "cell_type": "code",
   "execution_count": 8,
   "id": "c9178bbd-16c1-4a90-86c8-2f850d5c72c2",
   "metadata": {},
   "outputs": [
    {
     "name": "stdout",
     "output_type": "stream",
     "text": [
      "Sunday\n",
      "Monday\n",
      "Tuesday\n",
      "Wednesday\n",
      "Thursday\n",
      "Friday\n",
      "Saturday\n"
     ]
    }
   ],
   "source": [
    "days_week = (\"Sunday\",\"Monday\",\"Tuesday\",\"Wednesday\",\"Thursday\",\"Friday\",\"Saturday\")\n",
    "for day in days_week:\n",
    "    print (day)"
   ]
  },
  {
   "cell_type": "code",
   "execution_count": 10,
   "id": "b0b84c5b-2113-4f7d-b8e5-ed31c234ca1c",
   "metadata": {},
   "outputs": [
    {
     "name": "stdout",
     "output_type": "stream",
     "text": [
      "Wednesday\n"
     ]
    }
   ],
   "source": [
    "print(days_week[3])"
   ]
  },
  {
   "cell_type": "markdown",
   "id": "0aee4e66-e571-486e-a8eb-f45abe5e5c04",
   "metadata": {},
   "source": [
    "##8. Create a tuple of your favorite colors and print it. Check if a certain color is present in the\n",
    "tuple and print the result."
   ]
  },
  {
   "cell_type": "code",
   "execution_count": 11,
   "id": "60699bbb-6851-4888-83d3-15f71e91c8a2",
   "metadata": {},
   "outputs": [
    {
     "name": "stdout",
     "output_type": "stream",
     "text": [
      "('purple', 'Pink', 'magenta')\n"
     ]
    }
   ],
   "source": [
    "colors = (\"purple\",\"Pink\",\"magenta\")\n",
    "print(colors)"
   ]
  },
  {
   "cell_type": "code",
   "execution_count": 12,
   "id": "bf6371aa-5fab-4e41-b830-55b0576892ba",
   "metadata": {},
   "outputs": [
    {
     "name": "stdout",
     "output_type": "stream",
     "text": [
      "magenta\n"
     ]
    }
   ],
   "source": [
    "if \"magenta\" in colors:\n",
    "    print(\"magenta\")"
   ]
  },
  {
   "cell_type": "markdown",
   "id": "b44227b9-79f5-43f2-8401-a7124aea58f5",
   "metadata": {},
   "source": [
    "##9. Create a dictionary representing the information of a book with keys \"title\", \"author\", and\n",
    "\"year\" and print it. Update the year of the book and print the updated dictionary."
   ]
  },
  {
   "cell_type": "code",
   "execution_count": 13,
   "id": "e54fd2fe-cb13-4e0d-8ab3-26f2f35e745d",
   "metadata": {},
   "outputs": [
    {
     "name": "stdout",
     "output_type": "stream",
     "text": [
      "{'title': 'The House of Mirth', 'author': 'Edith Wharton', 'year': 1905}\n"
     ]
    }
   ],
   "source": [
    "book = {\n",
    "    \"title\":\"The House of Mirth\",\n",
    "    \"author\":\"Edith Wharton\",\n",
    "    \"year\":1905\n",
    "}\n",
    "print(book)"
   ]
  },
  {
   "cell_type": "code",
   "execution_count": 14,
   "id": "b86be157-19b9-40d1-9ec0-c3b4ae6d60bb",
   "metadata": {},
   "outputs": [
    {
     "name": "stdout",
     "output_type": "stream",
     "text": [
      "{'title': 'The House of Mirth', 'author': 'Edith Wharton', 'year': 2020}\n"
     ]
    }
   ],
   "source": [
    "book.update({\"year\":2020})\n",
    "print(book)"
   ]
  },
  {
   "cell_type": "markdown",
   "id": "240d930a-0cf3-4a24-8b3e-c517fb214759",
   "metadata": {},
   "source": [
    "##10. Create a dictionary containing the names of fruits as keys and their corresponding colors\n",
    "as values and print it. Add a new fruit-color pair to the dictionary and print the updated\n",
    "dictionary."
   ]
  },
  {
   "cell_type": "code",
   "execution_count": 15,
   "id": "2f0aac03-702d-47e9-82ea-39ce6e6f9e24",
   "metadata": {},
   "outputs": [
    {
     "name": "stdout",
     "output_type": "stream",
     "text": [
      "{'Mango': 'Yellow', 'strawberry': 'Red', 'Guava': 'Green'}\n"
     ]
    }
   ],
   "source": [
    "names = {\n",
    "    \"Mango\" : \"Yellow\",\n",
    "    \"strawberry\" : \"Red\",\n",
    "    \"Guava\" : \"Green\",\n",
    "}\n",
    "print(names)"
   ]
  },
  {
   "cell_type": "code",
   "execution_count": 16,
   "id": "321d6663-5571-4589-8350-95a56e195caf",
   "metadata": {},
   "outputs": [
    {
     "name": "stdout",
     "output_type": "stream",
     "text": [
      "{'Mango': 'Yellow', 'strawberry': 'Red', 'Guava': 'Green', 'Blueberry': 'Blue'}\n"
     ]
    }
   ],
   "source": [
    "names[\"Blueberry\"] = \"Blue\"\n",
    "print(names)"
   ]
  },
  {
   "cell_type": "markdown",
   "id": "daf3eb61-d609-4c0c-97e0-583d2d958784",
   "metadata": {},
   "source": [
    "##Create a dictionary representing the population of different cities with keys as city names\n",
    "and values as population numbers and print it. Remove a city from the dictionary and print\n",
    "the modified dictionary."
   ]
  },
  {
   "cell_type": "code",
   "execution_count": 19,
   "id": "952d86d5-8e3d-4181-8f28-440d4bd4f86f",
   "metadata": {},
   "outputs": [
    {
     "name": "stdout",
     "output_type": "stream",
     "text": [
      "{'kathmandu': 2041578, 'Bhaktapur': 79136, 'Pokhara': 494000}\n"
     ]
    }
   ],
   "source": [
    "population_cities = {\n",
    "    \"kathmandu\":2041578,\n",
    "    \"Bhaktapur\":79136,\n",
    "    \"Pokhara\":494000,\n",
    "}\n",
    "print(population_cities)"
   ]
  },
  {
   "cell_type": "code",
   "execution_count": 20,
   "id": "70393ee2-b809-4089-9e00-3a4151d69f58",
   "metadata": {},
   "outputs": [
    {
     "name": "stdout",
     "output_type": "stream",
     "text": [
      "{'Bhaktapur': 79136, 'Pokhara': 494000}\n"
     ]
    }
   ],
   "source": [
    "del population_cities[\"kathmandu\"]\n",
    "print(population_cities)"
   ]
  },
  {
   "cell_type": "code",
   "execution_count": null,
   "id": "7a1a7c71-0704-41ab-a7e4-46d45bcce9fa",
   "metadata": {},
   "outputs": [],
   "source": []
  }
 ],
 "metadata": {
  "kernelspec": {
   "display_name": "Python 3 (ipykernel)",
   "language": "python",
   "name": "python3"
  },
  "language_info": {
   "codemirror_mode": {
    "name": "ipython",
    "version": 3
   },
   "file_extension": ".py",
   "mimetype": "text/x-python",
   "name": "python",
   "nbconvert_exporter": "python",
   "pygments_lexer": "ipython3",
   "version": "3.11.7"
  }
 },
 "nbformat": 4,
 "nbformat_minor": 5
}
